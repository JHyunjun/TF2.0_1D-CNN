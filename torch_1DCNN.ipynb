{
  "nbformat": 4,
  "nbformat_minor": 0,
  "metadata": {
    "colab": {
      "name": "torch_1DCNN.ipynb",
      "private_outputs": true,
      "provenance": [],
      "collapsed_sections": [],
      "mount_file_id": "1Vec5MZtm4-qAPj3coFsjWiZZXIWmzplp",
      "authorship_tag": "ABX9TyPPSkPYxF36qE98XKF4bZx2",
      "include_colab_link": true
    },
    "kernelspec": {
      "name": "python3",
      "display_name": "Python 3"
    },
    "language_info": {
      "name": "python"
    },
    "accelerator": "GPU"
  },
  "cells": [
    {
      "cell_type": "markdown",
      "metadata": {
        "id": "view-in-github",
        "colab_type": "text"
      },
      "source": [
        "<a href=\"https://colab.research.google.com/github/JHyunjun/TF2.0_1D-CNN/blob/main/torch_1DCNN.ipynb\" target=\"_parent\"><img src=\"https://colab.research.google.com/assets/colab-badge.svg\" alt=\"Open In Colab\"/></a>"
      ]
    },
    {
      "cell_type": "code",
      "execution_count": null,
      "metadata": {
        "id": "uCZrz1gHn6rX"
      },
      "outputs": [],
      "source": [
        "from numpy import array\n",
        "import torch\n",
        "import torch.nn as nn\n",
        "import pandas as pd\n",
        "import numpy as np\n",
        "\n",
        "#Data Load\n",
        "df_train = pd.read_csv('/content/drive/MyDrive/Colab Notebooks/Data/Batt/train_v.txt')\n",
        "df_test = pd.read_csv('/content/drive/MyDrive/Colab Notebooks/Data/Batt/test_v.txt')\n",
        "train_data_input = df_train.iloc[:,:].values\n",
        "test_data_input = df_train.iloc[:,:].values\n",
        "print(train_data_input.shape,train_data_input)\n",
        "print(test_data_input.shape, test_data_input)\n",
        "print(train_data_input.shape[1])"
      ]
    },
    {
      "cell_type": "code",
      "source": [
        "from google.colab import drive\n",
        "drive.mount('/content/drive')"
      ],
      "metadata": {
        "id": "7ayu7IURuLRa"
      },
      "execution_count": null,
      "outputs": []
    },
    {
      "cell_type": "code",
      "source": [
        "#Normalization\n",
        "\n",
        "#print(\"Before Norm : \",train_data_input.shape, train_data_input)\n",
        "\n",
        "def origin_minmax(data) : \n",
        "  arr_max = np.zeros(train_data_input.shape[1])\n",
        "  arr_min = np.zeros(train_data_input.shape[1])\n",
        "  for i in range(data.shape[1]) : \n",
        "    max = np.max(data[:,i])\n",
        "    min = np.min(data[:,i]) \n",
        "    arr_max[i] = max\n",
        "    arr_min[i] = min\n",
        "    pass\n",
        "  return arr_max, arr_min\n",
        "\n",
        "arr_max1, arr_min1 = origin_minmax(train_data_input)\n",
        "#print(arr_max1, arr_min1)\n",
        "\n",
        "def MinMaxScaler(data):\n",
        "  for i in range(data.shape[1]) : \n",
        "    max = np.max(data[:,i])\n",
        "    min = np.min(data[:,i])\n",
        "    data[:,i] = (data[:,i] - min) / (max - min)\n",
        "    pass\n",
        "  return data\n",
        "\n",
        "train_gan = MinMaxScaler(train_data_input)\n",
        "\n",
        "def back_MinMax(data,max,min):\n",
        "  print(max)\n",
        "  print(min)\n",
        "  for i in range(data.shape[1]) : \n",
        "    data[:,i] = data[:,i] * (max[i] - min[i]) + min[i]\n",
        "    pass\n",
        "  return data\n",
        "\n",
        "print(\"After Norm : \",train_gan.shape, train_gan)"
      ],
      "metadata": {
        "id": "lNF3xvHgqGhN"
      },
      "execution_count": null,
      "outputs": []
    },
    {
      "cell_type": "code",
      "source": [
        "x = train_gan[:60,:2] #(5807,5)\n",
        "x = torch.Tensor([x]) #[1,5807,5]\n",
        "x = x.transpose(1,2) #[1,5,5807]\n",
        "print(x.shape)\n",
        "#print(x)\n",
        "conv1d = nn.Conv1d(2, 2, kernel_size = 5, padding = 2, padding_mode = 'zeros')\n",
        "conv1d2 = nn.Conv1d(2, 1, kernel_size = 5, padding = 2, padding_mode = 'zeros')\n",
        "out = conv1d(x)\n",
        "out = conv1d2(out)\n",
        "out = nn.LeakyReLU(0.02)\n",
        "print(out.shape)\n"
      ],
      "metadata": {
        "id": "a5aIEGSfQDtr"
      },
      "execution_count": null,
      "outputs": []
    },
    {
      "cell_type": "code",
      "source": [
        "out1 = out1.numpy()"
      ],
      "metadata": {
        "id": "fqifHbXYq5pJ"
      },
      "execution_count": null,
      "outputs": []
    }
  ]
}